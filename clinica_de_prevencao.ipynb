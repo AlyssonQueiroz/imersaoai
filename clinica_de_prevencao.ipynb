{
  "nbformat": 4,
  "nbformat_minor": 0,
  "metadata": {
    "colab": {
      "provenance": [],
      "authorship_tag": "ABX9TyMS9K5BX9vsKqigV1gXaEc/",
      "include_colab_link": true
    },
    "kernelspec": {
      "name": "python3",
      "display_name": "Python 3"
    },
    "language_info": {
      "name": "python"
    }
  },
  "cells": [
    {
      "cell_type": "markdown",
      "metadata": {
        "id": "view-in-github",
        "colab_type": "text"
      },
      "source": [
        "<a href=\"https://colab.research.google.com/github/AlyssonQueiroz/imersaoai/blob/main/clinica_de_prevencao.ipynb\" target=\"_parent\"><img src=\"https://colab.research.google.com/assets/colab-badge.svg\" alt=\"Open In Colab\"/></a>"
      ]
    },
    {
      "cell_type": "code",
      "execution_count": null,
      "metadata": {
        "id": "yvb2MSPiSldg"
      },
      "outputs": [],
      "source": [
        "!pip install -q -U google-generativeai"
      ]
    },
    {
      "cell_type": "code",
      "source": [
        "#Importações e configurações iniciais\n",
        "import numpy as np\n",
        "import pandas as pd\n",
        "import google.generativeai as genai\n",
        "\n",
        "from google.colab import userdata\n",
        "api_key = userdata.get('chave')\n",
        "genai.configure(api_key=api_key)"
      ],
      "metadata": {
        "id": "eLnWfTkGS6ff"
      },
      "execution_count": null,
      "outputs": []
    },
    {
      "cell_type": "code",
      "source": [
        "for m in genai.list_models():\n",
        "  if 'embedContent' in m.supported_generation_methods:\n",
        "    print(m.name)"
      ],
      "metadata": {
        "id": "ARoJE1AOUKuS"
      },
      "execution_count": null,
      "outputs": []
    },
    {
      "cell_type": "code",
      "source": [
        "#exemplo de embedding\n",
        "title = \"Alzheimer\"\n",
        "sample_text = (\"Alzheimer\")\n",
        "\n",
        "embeddings = genai.embed_content(model=\"models/embedding-001\",\n",
        "                                 content=sample_text,\n",
        "                                 title=title,\n",
        "                                 task_type=\"RETRIEVAL_DOCUMENT\")\n",
        "\n",
        "print(embeddings)"
      ],
      "metadata": {
        "colab": {
          "base_uri": "https://localhost:8080/",
          "height": 54
        },
        "id": "RH3HdE1ce9MZ",
        "outputId": "45bdc3c4-0663-4c65-e1a4-b06fc97ce20e"
      },
      "execution_count": null,
      "outputs": [
        {
          "output_type": "stream",
          "name": "stdout",
          "text": [
            "{'embedding': [0.026024096, -0.06048553, -0.053410962, 0.0038181804, 0.05546338, 0.036810264, 0.049905196, -0.023732197, -0.012320285, -0.007918594, 0.015211069, 0.017042002, -0.031246824, 0.03799316, -0.00043711628, -0.037928067, -0.004044279, 0.0624441, -0.00051848445, -0.005155016, 0.037847824, 0.035235, -0.03447168, 0.01089532, -0.0049013803, -0.028202778, 0.006542588, -0.07384381, -0.03191944, 0.019425275, -0.041346792, -0.007260211, -0.031244757, 0.037970662, 0.0045384676, -0.049012784, 0.017450845, -0.004917359, -0.019279035, 0.027587704, -0.0022164881, -0.02537765, -0.073227406, 0.0021984384, 0.046975598, -0.016156198, -0.02186938, 0.067906216, 0.03867791, -0.07147629, 0.062640935, 0.0065648817, 0.058510657, -0.041550357, -0.017455326, -0.063029274, 0.0045421757, -0.016958944, -0.016972436, -0.00081036065, -0.033856235, 0.020362034, -0.028902069, 0.040578622, -0.02957268, -0.050106287, -0.039596017, 0.0075997226, 0.033505626, 0.009419102, 0.0074651726, 0.013096936, 0.05515317, -0.012531402, -0.020615514, -0.103048846, 0.0009030428, 0.036057156, 0.052347887, 0.00182777, 0.019838091, -0.031279266, -0.07774277, -0.043651298, -0.023264064, -0.0010857834, -0.031425044, -0.02789566, -0.043362424, 0.018812824, -0.038429886, -0.023953795, 0.038082827, -0.03671212, -0.038652603, 0.061138242, -0.04144352, -0.025012268, 0.030356666, 0.016961606, 0.0010341726, 0.026470233, -0.089046255, -0.0031173732, -0.012239222, 0.034012023, 0.014613481, 0.035203278, 0.037491895, 0.03999907, -0.04786899, -0.025929293, -0.0010669748, -0.01513673, 0.094815105, -0.03956138, -0.02366741, 0.009117793, -0.027845712, 0.045776058, -0.0041400534, 0.027994491, 0.026460165, -0.046656404, -0.0016030901, -0.00432733, -0.048565023, 0.009544767, 0.043534294, -0.011459825, 0.0018269359, -0.036738604, -0.017802227, 0.03330617, -0.01901811, 0.10611546, 0.013193034, -4.4495493e-05, 0.05265594, 0.021937238, 0.0039738617, -0.0012857743, -0.0138032865, 0.041880254, -0.019318534, 0.09906449, -0.052757185, -0.009947949, 0.030264338, -0.014826591, -0.03807204, -0.02383798, -0.08872534, -0.010772478, 0.07107115, -0.0020347848, -0.013332483, 0.059928823, 0.004149004, 0.019899447, 0.06748786, 0.030583076, 0.054679256, 0.047513813, 0.03157164, -0.0655072, 0.008884059, 0.023972692, -0.04498211, 0.014446256, -0.03955855, -0.0022695865, -0.027015088, -0.050386876, -0.0056218263, -0.036683936, 0.058262356, 0.021972476, -0.041145906, -0.022924505, 0.02090252, -0.07118867, -0.01595448, 0.07213319, -0.013149196, -0.047719013, 0.05331542, 0.016880073, -0.00921666, 0.010334059, -0.037294414, -0.023498455, -0.007522915, -0.042450313, 0.010457753, -0.003214594, 0.045631964, -0.036359675, 0.00013926455, -0.051358376, -0.0012602732, 0.034201544, -0.02616843, -0.03022858, 0.009726404, -0.036140535, 0.08938161, 0.008911542, -0.02320018, -0.006601574, -0.030506464, 0.017802492, 0.028685294, 0.022922494, 0.03809442, -0.022681993, 0.03661493, 0.019851528, 0.028728401, 0.0071304105, -0.027025785, 0.0028926262, -0.040762436, -0.021453625, 0.01612382, 0.05481979, -0.01976411, 0.00793293, -0.0110836355, -0.03623423, -0.019512124, 0.06553972, 0.050495766, 0.016351804, 0.07935302, 0.014501417, 0.010178179, -0.024950441, -0.0071173734, 0.006916604, -0.033290714, 0.07370957, 0.030786023, 0.009565573, -0.05187542, -0.0499563, -0.015695276, 0.08144394, -0.0013170694, 0.04268622, -0.0014364134, -0.02332483, 0.0014136217, -0.033103887, -0.072893165, 0.03758085, -0.07184034, 0.010250667, -0.0512043, -0.004343725, 0.02266663, -0.0065930546, -0.00031758178, -0.026182814, -0.013607458, -0.03270395, -0.013887075, -0.035302676, -0.019448647, 0.020858854, 0.011941392, -0.060706116, 0.039750375, 0.02635054, 0.03279305, 0.033374157, 0.0031771658, 0.026361395, 0.008207847, -0.059954654, 0.023178333, -0.030179866, 0.056574225, -0.0030938722, -4.0601164e-05, 0.010974879, -0.036247432, -0.026414428, 0.011667814, -0.055609226, -0.02188551, -0.06935985, 0.041311536, -0.047698095, -0.020860616, -0.023603382, -0.009516936, 0.03981047, 0.044060044, -0.011258573, 0.0129366, -0.042080276, 0.036599398, -0.06907856, 0.0098942565, 0.02957223, 0.005443448, -0.008660373, 0.013563938, 0.011631997, -0.019690165, -0.010370213, -0.012365697, -0.020432066, 0.03585556, 0.02288388, -0.004968225, 0.008124176, 0.026552806, 0.07563108, 0.0025220558, 0.056897275, 0.01687283, -0.00567298, -0.02499571, 0.0064302566, 0.0012148599, 0.02196161, 0.014789698, -0.0073721944, -0.022928162, 0.034446195, -0.0015848496, 0.039973002, -0.0033758085, 0.054062713, -0.06841364, -0.00025337792, -0.032037996, -0.0048186583, 0.016860502, 0.046076402, -0.017328082, -0.010805877, 0.0061017345, -0.017089944, -0.02435092, 0.033701416, 0.06417903, 0.044787105, -0.0041887164, 0.08440002, 0.0027819762, -0.0015104603, -0.017770799, -0.008832967, 0.08200632, -0.018520882, 0.003586933, -0.03064841, 0.04333832, 0.03296503, 0.0051532113, 0.040572498, -0.034830794, -0.001393315, -0.018659933, 0.038348924, -0.036008403, 0.051460773, 0.050682344, 0.019298963, 0.004202338, -0.011265516, 0.026235303, 0.01315843, -0.0332657, -0.020034146, 0.01756781, 0.012690375, 0.02849509, 0.01001443, 0.01934649, 0.0041724415, -0.014631186, 0.029200273, 0.007410122, 0.013145038, -0.022674065, 0.057940163, -0.036251187, 0.028194422, 0.08028917, -0.001143302, 0.0031955708, -0.030200182, 0.013341082, -0.06747188, -0.0075821253, 0.058012597, -0.02983158, -0.057927012, -0.010531163, -0.018543275, -0.06536584, 0.008226986, -0.03177712, -0.0107905045, -0.023845037, 0.00021947149, -0.0017722545, -0.06638001, 0.002841334, -0.018248178, -0.048324607, -0.05547994, 0.029465156, 0.0054877563, -0.008620505, -0.0019156114, -0.027251972, -0.013255023, 0.005828854, -0.018448504, -0.020941928, 0.025807373, 0.055308755, 0.028733876, -0.0020320027, 0.021896176, 0.031248251, -0.004239345, -0.014067728, 0.009820664, 0.02959878, -0.04288672, -0.022346064, -0.0033950564, -0.03938522, 0.010779488, -0.0051416503, -0.020181103, 0.033309452, -0.012408523, -0.041327942, -0.0059999228, -0.0209629, -0.057830874, -0.00647952, -0.093630895, 0.0644572, -0.05291662, -0.028950062, -0.036978822, -0.03038064, -0.028199771, -0.036295515, 0.052430127, -0.022173127, -0.019150803, 0.03600136, 0.0011801941, 0.004913946, -0.09852262, 0.038312893, -0.006791546, -0.010497158, -0.022480024, 0.016786473, -0.00684417, 0.0062247557, -0.055726707, -0.012178013, 0.0074136904, -0.020927021, 0.033381674, -0.09657449, 0.048130643, -0.06990807, -0.007030187, -0.012604869, 0.009541565, 0.023000842, 0.03372742, -0.04028767, 0.0035130875, 0.020707417, 0.008701798, -0.0007634406, 0.015597328, 0.008603205, 0.051798306, 0.007171168, -0.068742916, -0.044999003, -0.007904736, 0.012645562, 0.06611919, 0.00712842, 0.0057129315, -0.004834755, -0.023072412, 0.0005055431, 0.0026292, 0.062427826, -0.059227984, 0.009561884, -0.02413965, 0.03845739, -0.012388351, 0.03553827, 0.033269353, -0.026523164, 0.034678645, 0.055634808, -0.033086, 0.0044687754, -0.0041969097, 0.015389358, 0.0129041355, 0.01638538, -0.041236833, -0.08575691, -0.025464037, 0.020222973, -0.029457584, 0.031940304, -0.027610172, -0.010405028, -0.013624184, -0.015384828, 0.08373085, -0.026563687, -0.04703906, 0.018147333, -0.00045154212, 0.012091925, 0.051370878, -0.011521338, -0.04129696, 0.042795844, 0.021156216, 0.009858926, 0.011230333, -0.10059344, 0.0319771, 0.0077359267, -0.06983914, 0.015909439, -0.044331267, -0.003920863, -0.0015578698, 0.035232693, 0.009334051, -0.005309287, 0.005341516, -0.016411554, 0.00091340503, -0.014381652, -0.0023682858, -0.027349679, 0.011745774, -0.0025082924, 0.017394932, 0.05972809, 0.015868114, -0.012508776, -0.026022041, 0.035596676, 0.0066547384, 0.016118558, -0.023420302, 0.012833263, 0.024288023, 0.03455109, 0.037381865, -0.08209466, 0.036036506, -0.034890745, -0.02283273, 0.072928905, -0.0005695951, 0.012179412, 0.005997201, 0.01142986, 0.019852053, 0.062842876, 0.004475371, 0.038386323, -0.019910034, -0.053439714, 0.037356496, -0.06851987, -0.021671709, -0.05722829, -0.0061830264, 0.009003433, -0.009367397, -0.02894331, -0.024789091, 0.025644714, -0.044293277, 0.022952741, -0.027801817, 0.04443938, 0.020048728, -0.018238425, 0.05949839, -0.024498802, 0.025758866, 0.056124087, -0.051498175, -0.0012866033, -0.056159154, -0.026447047, -0.037275407, 0.024842333, 0.0030954676, -0.050796025, -0.039123997, -0.052162696, 0.007913779, -0.004879749, 0.0052394937, 0.041305408, 0.0579861, 0.023313725, -0.031763904, 0.108018234, 0.06488054, 0.02354731, 0.08913067, 0.0154997185, -0.009585344, -0.065363556, 0.012945235, -0.036726866, -0.00434077, 0.008317916, 0.024066826, -0.08569048, 0.017672326, 0.0251403, 0.028696595, 0.028206863, 0.07589738, 0.0021160794, -0.073565565, -0.05860294, -0.016410565, -0.03402309, 0.010574017, 0.011772761, -0.03097953, 0.017626965, -0.008717016, -0.045473058, -0.039991107, 0.04488476, 0.03023928, -0.014880047, 0.012239948, 0.03770345, 0.026932485, -0.02364589, 0.0057332893, -0.02603725, -0.05764831, -0.021032037, 0.060831618, -0.020962818, -0.0002741024, 0.04908061, 0.012988296, 0.028372709, 0.016838435, -0.0003203449, 0.106274426, 0.018673463, 0.039927673, 0.012545149, 0.052052334, 0.016399022, 0.020075371, -0.011151005, 0.016148295, -0.006831036, 0.03713638, 0.004031773, -0.0713783, 0.03577627, -0.041838754, 0.035837788, 0.051008046, 0.077863224, 0.0020518908, -0.047527846, 0.008888806, 0.029506586, 0.03953909, -0.005506219, -0.02931903, -0.015106456, 0.009448535, 0.040581506, 0.02751318, 0.037828766, -0.001671416, 0.007311447, 0.05038425, 0.009626087, -0.0015816366, -0.028667241, 0.0744157, -0.010232595, -0.029393323, 0.0076554515, 0.08089455, -0.06072122, 0.07337093, 0.03557006, 0.009189514, -0.0030583437, -0.008153584, -0.08293048, 0.047847655, -0.028079923, -0.06960899, 0.011223205, -0.007590021, 0.026014047, 0.00560651, -0.012695132, 0.009020931, -0.03386195, 0.08350183, 0.02345209, 0.029553786, -0.018088471, -0.08766097, -0.057906248, -0.0143722715, 0.045036793, 0.05365816, 0.0066260444, -0.018009756, -0.04846357, -0.012031151, -0.031979106, -0.0756216, 0.030207813, 0.0034132423, -0.005476574, 0.013151246, 0.04097548, 0.013232164, -0.023340326, -0.0055941073, 0.0041105337, -0.017990217, -0.037730917, 0.0037829566, 0.00089959684, -0.022127565, -0.012438539, 0.03659946, -0.023902535, 0.036922004]}\n"
          ]
        }
      ]
    },
    {
      "cell_type": "code",
      "source": [
        "#listagem de documentos\n",
        "DOCUMENT1 = {\n",
        "    \"Título\": \"Prevenção de Diabetes\",\n",
        "    \"Conteúdo\": \"A obesidade é um fator de risco importante para a diabetes. Os exercícios ajudam a controlar os níveis de açúcar no sangue e melhoram a sensibilidade à insulina. Limitar alimentos processados, açúcares adicionados e gorduras saturadas. Optar por frutas, vegetais, \"\n",
        "}\n",
        "DOCUMENT2 = {\n",
        "    \"Título\": \"Prevenção de Cardiopatias\",\n",
        "    \"Conteúdo\": \"Fumar danifica os vasos sanguíneos e aumenta o risco de doenças cardíacas. O colesterol alto pode obstruir as artérias e aumentar o risco de doenças cardíacas.\"\n",
        "}\n",
        "DOCUMENT3 = {\n",
        "    \"Título\": \"Como prevenir Alzheimer\",\n",
        "    \"Conteúdo\": \"Uma dieta mediterrânea, rica em frutas, verduras, peixes e azeite, pode ajudar a reduzir o risco de Alzheimer.\"\n",
        "}\n",
        "\n",
        "documents = [DOCUMENT1, DOCUMENT2, DOCUMENT3]"
      ],
      "metadata": {
        "id": "mmTC1wIGhJPs"
      },
      "execution_count": null,
      "outputs": []
    },
    {
      "cell_type": "code",
      "source": [
        "df = pd.DataFrame(documents)\n",
        "df.columns = [\"Titulo\", \"Conteudo\"]"
      ],
      "metadata": {
        "id": "pVQKM9tkieod"
      },
      "execution_count": null,
      "outputs": []
    },
    {
      "cell_type": "code",
      "source": [
        "model = \"models/embedding-001\""
      ],
      "metadata": {
        "id": "8Vn2v3MQjkW0"
      },
      "execution_count": null,
      "outputs": []
    },
    {
      "cell_type": "code",
      "source": [
        "def embed_fn(title, text):\n",
        "  return genai.embed_content(model,\n",
        "                                 content=text,\n",
        "                                 title=title,\n",
        "                                 task_type=\"RETRIEVAL_DOCUMENT\")[\"embedding\"]\n"
      ],
      "metadata": {
        "id": "mPDswrJyjwQr"
      },
      "execution_count": null,
      "outputs": []
    },
    {
      "cell_type": "code",
      "source": [
        "df[\"Embeddings\"] = df.apply(lambda row: embed_fn(row[\"Titulo\"], row[\"Conteudo\"]), axis=1)\n",
        "df"
      ],
      "metadata": {
        "colab": {
          "base_uri": "https://localhost:8080/",
          "height": 196
        },
        "id": "3M45Jcb9lAW4",
        "outputId": "2bdcfb01-47f8-484f-8ec0-0fb98780bfb4"
      },
      "execution_count": null,
      "outputs": [
        {
          "output_type": "execute_result",
          "data": {
            "text/plain": [
              "                      Titulo  \\\n",
              "0      Prevenção de Diabetes   \n",
              "1  Prevenção de Cardiopatias   \n",
              "2    Como prevenir Alzheimer   \n",
              "\n",
              "                                            Conteudo  \\\n",
              "0  A obesidade é um fator de risco importante par...   \n",
              "1  Fumar danifica os vasos sanguíneos e aumenta o...   \n",
              "2  Uma dieta mediterrânea, rica em frutas, verdur...   \n",
              "\n",
              "                                          Embeddings  \n",
              "0  [-0.04689414, 0.0009958204, 0.0037504912, 0.01...  \n",
              "1  [-0.018584682, -0.039996143, -0.034065615, 0.0...  \n",
              "2  [-0.026449826, -0.035143714, -0.02825973, 0.03...  "
            ],
            "text/html": [
              "\n",
              "  <div id=\"df-2906b28a-5719-4a71-862a-0d6c4eb53987\" class=\"colab-df-container\">\n",
              "    <div>\n",
              "<style scoped>\n",
              "    .dataframe tbody tr th:only-of-type {\n",
              "        vertical-align: middle;\n",
              "    }\n",
              "\n",
              "    .dataframe tbody tr th {\n",
              "        vertical-align: top;\n",
              "    }\n",
              "\n",
              "    .dataframe thead th {\n",
              "        text-align: right;\n",
              "    }\n",
              "</style>\n",
              "<table border=\"1\" class=\"dataframe\">\n",
              "  <thead>\n",
              "    <tr style=\"text-align: right;\">\n",
              "      <th></th>\n",
              "      <th>Titulo</th>\n",
              "      <th>Conteudo</th>\n",
              "      <th>Embeddings</th>\n",
              "    </tr>\n",
              "  </thead>\n",
              "  <tbody>\n",
              "    <tr>\n",
              "      <th>0</th>\n",
              "      <td>Prevenção de Diabetes</td>\n",
              "      <td>A obesidade é um fator de risco importante par...</td>\n",
              "      <td>[-0.04689414, 0.0009958204, 0.0037504912, 0.01...</td>\n",
              "    </tr>\n",
              "    <tr>\n",
              "      <th>1</th>\n",
              "      <td>Prevenção de Cardiopatias</td>\n",
              "      <td>Fumar danifica os vasos sanguíneos e aumenta o...</td>\n",
              "      <td>[-0.018584682, -0.039996143, -0.034065615, 0.0...</td>\n",
              "    </tr>\n",
              "    <tr>\n",
              "      <th>2</th>\n",
              "      <td>Como prevenir Alzheimer</td>\n",
              "      <td>Uma dieta mediterrânea, rica em frutas, verdur...</td>\n",
              "      <td>[-0.026449826, -0.035143714, -0.02825973, 0.03...</td>\n",
              "    </tr>\n",
              "  </tbody>\n",
              "</table>\n",
              "</div>\n",
              "    <div class=\"colab-df-buttons\">\n",
              "\n",
              "  <div class=\"colab-df-container\">\n",
              "    <button class=\"colab-df-convert\" onclick=\"convertToInteractive('df-2906b28a-5719-4a71-862a-0d6c4eb53987')\"\n",
              "            title=\"Convert this dataframe to an interactive table.\"\n",
              "            style=\"display:none;\">\n",
              "\n",
              "  <svg xmlns=\"http://www.w3.org/2000/svg\" height=\"24px\" viewBox=\"0 -960 960 960\">\n",
              "    <path d=\"M120-120v-720h720v720H120Zm60-500h600v-160H180v160Zm220 220h160v-160H400v160Zm0 220h160v-160H400v160ZM180-400h160v-160H180v160Zm440 0h160v-160H620v160ZM180-180h160v-160H180v160Zm440 0h160v-160H620v160Z\"/>\n",
              "  </svg>\n",
              "    </button>\n",
              "\n",
              "  <style>\n",
              "    .colab-df-container {\n",
              "      display:flex;\n",
              "      gap: 12px;\n",
              "    }\n",
              "\n",
              "    .colab-df-convert {\n",
              "      background-color: #E8F0FE;\n",
              "      border: none;\n",
              "      border-radius: 50%;\n",
              "      cursor: pointer;\n",
              "      display: none;\n",
              "      fill: #1967D2;\n",
              "      height: 32px;\n",
              "      padding: 0 0 0 0;\n",
              "      width: 32px;\n",
              "    }\n",
              "\n",
              "    .colab-df-convert:hover {\n",
              "      background-color: #E2EBFA;\n",
              "      box-shadow: 0px 1px 2px rgba(60, 64, 67, 0.3), 0px 1px 3px 1px rgba(60, 64, 67, 0.15);\n",
              "      fill: #174EA6;\n",
              "    }\n",
              "\n",
              "    .colab-df-buttons div {\n",
              "      margin-bottom: 4px;\n",
              "    }\n",
              "\n",
              "    [theme=dark] .colab-df-convert {\n",
              "      background-color: #3B4455;\n",
              "      fill: #D2E3FC;\n",
              "    }\n",
              "\n",
              "    [theme=dark] .colab-df-convert:hover {\n",
              "      background-color: #434B5C;\n",
              "      box-shadow: 0px 1px 3px 1px rgba(0, 0, 0, 0.15);\n",
              "      filter: drop-shadow(0px 1px 2px rgba(0, 0, 0, 0.3));\n",
              "      fill: #FFFFFF;\n",
              "    }\n",
              "  </style>\n",
              "\n",
              "    <script>\n",
              "      const buttonEl =\n",
              "        document.querySelector('#df-2906b28a-5719-4a71-862a-0d6c4eb53987 button.colab-df-convert');\n",
              "      buttonEl.style.display =\n",
              "        google.colab.kernel.accessAllowed ? 'block' : 'none';\n",
              "\n",
              "      async function convertToInteractive(key) {\n",
              "        const element = document.querySelector('#df-2906b28a-5719-4a71-862a-0d6c4eb53987');\n",
              "        const dataTable =\n",
              "          await google.colab.kernel.invokeFunction('convertToInteractive',\n",
              "                                                    [key], {});\n",
              "        if (!dataTable) return;\n",
              "\n",
              "        const docLinkHtml = 'Like what you see? Visit the ' +\n",
              "          '<a target=\"_blank\" href=https://colab.research.google.com/notebooks/data_table.ipynb>data table notebook</a>'\n",
              "          + ' to learn more about interactive tables.';\n",
              "        element.innerHTML = '';\n",
              "        dataTable['output_type'] = 'display_data';\n",
              "        await google.colab.output.renderOutput(dataTable, element);\n",
              "        const docLink = document.createElement('div');\n",
              "        docLink.innerHTML = docLinkHtml;\n",
              "        element.appendChild(docLink);\n",
              "      }\n",
              "    </script>\n",
              "  </div>\n",
              "\n",
              "\n",
              "<div id=\"df-8f81caf3-7236-4a94-aa1a-4944a3ca9b79\">\n",
              "  <button class=\"colab-df-quickchart\" onclick=\"quickchart('df-8f81caf3-7236-4a94-aa1a-4944a3ca9b79')\"\n",
              "            title=\"Suggest charts\"\n",
              "            style=\"display:none;\">\n",
              "\n",
              "<svg xmlns=\"http://www.w3.org/2000/svg\" height=\"24px\"viewBox=\"0 0 24 24\"\n",
              "     width=\"24px\">\n",
              "    <g>\n",
              "        <path d=\"M19 3H5c-1.1 0-2 .9-2 2v14c0 1.1.9 2 2 2h14c1.1 0 2-.9 2-2V5c0-1.1-.9-2-2-2zM9 17H7v-7h2v7zm4 0h-2V7h2v10zm4 0h-2v-4h2v4z\"/>\n",
              "    </g>\n",
              "</svg>\n",
              "  </button>\n",
              "\n",
              "<style>\n",
              "  .colab-df-quickchart {\n",
              "      --bg-color: #E8F0FE;\n",
              "      --fill-color: #1967D2;\n",
              "      --hover-bg-color: #E2EBFA;\n",
              "      --hover-fill-color: #174EA6;\n",
              "      --disabled-fill-color: #AAA;\n",
              "      --disabled-bg-color: #DDD;\n",
              "  }\n",
              "\n",
              "  [theme=dark] .colab-df-quickchart {\n",
              "      --bg-color: #3B4455;\n",
              "      --fill-color: #D2E3FC;\n",
              "      --hover-bg-color: #434B5C;\n",
              "      --hover-fill-color: #FFFFFF;\n",
              "      --disabled-bg-color: #3B4455;\n",
              "      --disabled-fill-color: #666;\n",
              "  }\n",
              "\n",
              "  .colab-df-quickchart {\n",
              "    background-color: var(--bg-color);\n",
              "    border: none;\n",
              "    border-radius: 50%;\n",
              "    cursor: pointer;\n",
              "    display: none;\n",
              "    fill: var(--fill-color);\n",
              "    height: 32px;\n",
              "    padding: 0;\n",
              "    width: 32px;\n",
              "  }\n",
              "\n",
              "  .colab-df-quickchart:hover {\n",
              "    background-color: var(--hover-bg-color);\n",
              "    box-shadow: 0 1px 2px rgba(60, 64, 67, 0.3), 0 1px 3px 1px rgba(60, 64, 67, 0.15);\n",
              "    fill: var(--button-hover-fill-color);\n",
              "  }\n",
              "\n",
              "  .colab-df-quickchart-complete:disabled,\n",
              "  .colab-df-quickchart-complete:disabled:hover {\n",
              "    background-color: var(--disabled-bg-color);\n",
              "    fill: var(--disabled-fill-color);\n",
              "    box-shadow: none;\n",
              "  }\n",
              "\n",
              "  .colab-df-spinner {\n",
              "    border: 2px solid var(--fill-color);\n",
              "    border-color: transparent;\n",
              "    border-bottom-color: var(--fill-color);\n",
              "    animation:\n",
              "      spin 1s steps(1) infinite;\n",
              "  }\n",
              "\n",
              "  @keyframes spin {\n",
              "    0% {\n",
              "      border-color: transparent;\n",
              "      border-bottom-color: var(--fill-color);\n",
              "      border-left-color: var(--fill-color);\n",
              "    }\n",
              "    20% {\n",
              "      border-color: transparent;\n",
              "      border-left-color: var(--fill-color);\n",
              "      border-top-color: var(--fill-color);\n",
              "    }\n",
              "    30% {\n",
              "      border-color: transparent;\n",
              "      border-left-color: var(--fill-color);\n",
              "      border-top-color: var(--fill-color);\n",
              "      border-right-color: var(--fill-color);\n",
              "    }\n",
              "    40% {\n",
              "      border-color: transparent;\n",
              "      border-right-color: var(--fill-color);\n",
              "      border-top-color: var(--fill-color);\n",
              "    }\n",
              "    60% {\n",
              "      border-color: transparent;\n",
              "      border-right-color: var(--fill-color);\n",
              "    }\n",
              "    80% {\n",
              "      border-color: transparent;\n",
              "      border-right-color: var(--fill-color);\n",
              "      border-bottom-color: var(--fill-color);\n",
              "    }\n",
              "    90% {\n",
              "      border-color: transparent;\n",
              "      border-bottom-color: var(--fill-color);\n",
              "    }\n",
              "  }\n",
              "</style>\n",
              "\n",
              "  <script>\n",
              "    async function quickchart(key) {\n",
              "      const quickchartButtonEl =\n",
              "        document.querySelector('#' + key + ' button');\n",
              "      quickchartButtonEl.disabled = true;  // To prevent multiple clicks.\n",
              "      quickchartButtonEl.classList.add('colab-df-spinner');\n",
              "      try {\n",
              "        const charts = await google.colab.kernel.invokeFunction(\n",
              "            'suggestCharts', [key], {});\n",
              "      } catch (error) {\n",
              "        console.error('Error during call to suggestCharts:', error);\n",
              "      }\n",
              "      quickchartButtonEl.classList.remove('colab-df-spinner');\n",
              "      quickchartButtonEl.classList.add('colab-df-quickchart-complete');\n",
              "    }\n",
              "    (() => {\n",
              "      let quickchartButtonEl =\n",
              "        document.querySelector('#df-8f81caf3-7236-4a94-aa1a-4944a3ca9b79 button');\n",
              "      quickchartButtonEl.style.display =\n",
              "        google.colab.kernel.accessAllowed ? 'block' : 'none';\n",
              "    })();\n",
              "  </script>\n",
              "</div>\n",
              "    </div>\n",
              "  </div>\n"
            ],
            "application/vnd.google.colaboratory.intrinsic+json": {
              "type": "dataframe",
              "variable_name": "df",
              "summary": "{\n  \"name\": \"df\",\n  \"rows\": 3,\n  \"fields\": [\n    {\n      \"column\": \"Titulo\",\n      \"properties\": {\n        \"dtype\": \"string\",\n        \"num_unique_values\": 3,\n        \"samples\": [\n          \"Preven\\u00e7\\u00e3o de Diabetes\",\n          \"Preven\\u00e7\\u00e3o de Cardiopatias\",\n          \"Como prevenir Alzheimer\"\n        ],\n        \"semantic_type\": \"\",\n        \"description\": \"\"\n      }\n    },\n    {\n      \"column\": \"Conteudo\",\n      \"properties\": {\n        \"dtype\": \"string\",\n        \"num_unique_values\": 3,\n        \"samples\": [\n          \"A obesidade \\u00e9 um fator de risco importante para a diabetes. Os exerc\\u00edcios ajudam a controlar os n\\u00edveis de a\\u00e7\\u00facar no sangue e melhoram a sensibilidade \\u00e0 insulina. Limitar alimentos processados, a\\u00e7\\u00facares adicionados e gorduras saturadas. Optar por frutas, vegetais, \",\n          \"Fumar danifica os vasos sangu\\u00edneos e aumenta o risco de doen\\u00e7as card\\u00edacas. O colesterol alto pode obstruir as art\\u00e9rias e aumentar o risco de doen\\u00e7as card\\u00edacas.\",\n          \"Uma dieta mediterr\\u00e2nea, rica em frutas, verduras, peixes e azeite, pode ajudar a reduzir o risco de Alzheimer.\"\n        ],\n        \"semantic_type\": \"\",\n        \"description\": \"\"\n      }\n    },\n    {\n      \"column\": \"Embeddings\",\n      \"properties\": {\n        \"dtype\": \"object\",\n        \"semantic_type\": \"\",\n        \"description\": \"\"\n      }\n    }\n  ]\n}"
            }
          },
          "metadata": {},
          "execution_count": 76
        }
      ]
    },
    {
      "cell_type": "code",
      "source": [
        "def gerar_e_buscar_consulta(consulta, base, model):\n",
        "  embedding_da_consulta = genai.embed_content(model,\n",
        "                                 content=consulta,\n",
        "                                 task_type=\"RETRIEVAL_QUERY\")[\"embedding\"]\n",
        "\n",
        "  produtos_escalares = np.dot(np.stack(df[\"Embeddings\"]), embedding_da_consulta)\n",
        "\n",
        "  indice = np.argmax(produtos_escalares)\n",
        "  return df.iloc[indice][\"Conteudo\"]"
      ],
      "metadata": {
        "id": "dWa_EMqqm95_"
      },
      "execution_count": null,
      "outputs": []
    },
    {
      "cell_type": "code",
      "source": [
        "consulta = \"Porque é bom fazer exercício\"\n",
        "\n",
        "trecho = gerar_e_buscar_consulta(consulta, df, model)\n",
        "print(trecho)"
      ],
      "metadata": {
        "colab": {
          "base_uri": "https://localhost:8080/",
          "height": 54
        },
        "id": "EmduFuYTpvTm",
        "outputId": "087a0bb5-e03d-4f37-cb09-a96821100a7a"
      },
      "execution_count": null,
      "outputs": [
        {
          "output_type": "stream",
          "name": "stdout",
          "text": [
            "A obesidade é um fator de risco importante para a diabetes. Os exercícios ajudam a controlar os níveis de açúcar no sangue e melhoram a sensibilidade à insulina. Limitar alimentos processados, açúcares adicionados e gorduras saturadas. Optar por frutas, vegetais, \n"
          ]
        }
      ]
    },
    {
      "cell_type": "code",
      "source": [
        "generation_config = {\n",
        "    \"candidate_count\": 1,\n",
        "    \"temperature\":0,\n",
        "}"
      ],
      "metadata": {
        "id": "ZU4mgVJhsGeg"
      },
      "execution_count": null,
      "outputs": []
    },
    {
      "cell_type": "code",
      "source": [
        "prompt = f\"Reescreva este texto de modo informal, sem adicionar informações que não faça parte do texto: {trecho}\"\n",
        "\n",
        "model = genai.GenerativeModel(\"gemini-1.0-pro\",\n",
        "                              generation_config=generation_config)\n",
        "response = model.generate_content(prompt)\n",
        "\n"
      ],
      "metadata": {
        "id": "ewYi1zcwrtQy"
      },
      "execution_count": null,
      "outputs": []
    },
    {
      "cell_type": "code",
      "source": [
        "chat = model.start_chat(history=[])"
      ],
      "metadata": {
        "id": "fGBdmxNF4gLy"
      },
      "execution_count": null,
      "outputs": []
    },
    {
      "cell_type": "code",
      "source": [
        "prompt = input(\"Pergunta: \")\n",
        "\n",
        "while prompt != \"fim\":\n",
        "    response = chat.send_message(prompt)\n",
        "    print(\"Resposta: \", response.text, \"\\n\")\n",
        "    prompt = input(\"Pergunta: \")\n"
      ],
      "metadata": {
        "colab": {
          "base_uri": "https://localhost:8080/",
          "height": 373
        },
        "id": "4n4HC6oI18QE",
        "outputId": "587b7ee9-9bba-4cd0-8e29-2eaf2cbdf8a0"
      },
      "execution_count": null,
      "outputs": [
        {
          "output_type": "error",
          "ename": "KeyboardInterrupt",
          "evalue": "Interrupted by user",
          "traceback": [
            "\u001b[0;31m---------------------------------------------------------------------------\u001b[0m",
            "\u001b[0;31mKeyboardInterrupt\u001b[0m                         Traceback (most recent call last)",
            "\u001b[0;32m<ipython-input-78-68eacac769fe>\u001b[0m in \u001b[0;36m<cell line: 1>\u001b[0;34m()\u001b[0m\n\u001b[0;32m----> 1\u001b[0;31m \u001b[0mprompt\u001b[0m \u001b[0;34m=\u001b[0m \u001b[0minput\u001b[0m\u001b[0;34m(\u001b[0m\u001b[0;34m\"Pergunta: \"\u001b[0m\u001b[0;34m)\u001b[0m\u001b[0;34m\u001b[0m\u001b[0;34m\u001b[0m\u001b[0m\n\u001b[0m\u001b[1;32m      2\u001b[0m \u001b[0;34m\u001b[0m\u001b[0m\n\u001b[1;32m      3\u001b[0m \u001b[0;32mwhile\u001b[0m \u001b[0mprompt\u001b[0m \u001b[0;34m!=\u001b[0m \u001b[0;34m\"fim\"\u001b[0m\u001b[0;34m:\u001b[0m\u001b[0;34m\u001b[0m\u001b[0;34m\u001b[0m\u001b[0m\n\u001b[1;32m      4\u001b[0m     \u001b[0mresponse\u001b[0m \u001b[0;34m=\u001b[0m \u001b[0mchat\u001b[0m\u001b[0;34m.\u001b[0m\u001b[0msend_message\u001b[0m\u001b[0;34m(\u001b[0m\u001b[0mprompt\u001b[0m\u001b[0;34m)\u001b[0m\u001b[0;34m\u001b[0m\u001b[0;34m\u001b[0m\u001b[0m\n\u001b[1;32m      5\u001b[0m     \u001b[0mprint\u001b[0m\u001b[0;34m(\u001b[0m\u001b[0;34m\"Resposta: \"\u001b[0m\u001b[0;34m,\u001b[0m \u001b[0mresponse\u001b[0m\u001b[0;34m.\u001b[0m\u001b[0mtext\u001b[0m\u001b[0;34m,\u001b[0m \u001b[0;34m\"\\n\"\u001b[0m\u001b[0;34m)\u001b[0m\u001b[0;34m\u001b[0m\u001b[0;34m\u001b[0m\u001b[0m\n",
            "\u001b[0;32m/usr/local/lib/python3.10/dist-packages/ipykernel/kernelbase.py\u001b[0m in \u001b[0;36mraw_input\u001b[0;34m(self, prompt)\u001b[0m\n\u001b[1;32m    849\u001b[0m                 \u001b[0;34m\"raw_input was called, but this frontend does not support input requests.\"\u001b[0m\u001b[0;34m\u001b[0m\u001b[0;34m\u001b[0m\u001b[0m\n\u001b[1;32m    850\u001b[0m             )\n\u001b[0;32m--> 851\u001b[0;31m         return self._input_request(str(prompt),\n\u001b[0m\u001b[1;32m    852\u001b[0m             \u001b[0mself\u001b[0m\u001b[0;34m.\u001b[0m\u001b[0m_parent_ident\u001b[0m\u001b[0;34m,\u001b[0m\u001b[0;34m\u001b[0m\u001b[0;34m\u001b[0m\u001b[0m\n\u001b[1;32m    853\u001b[0m             \u001b[0mself\u001b[0m\u001b[0;34m.\u001b[0m\u001b[0m_parent_header\u001b[0m\u001b[0;34m,\u001b[0m\u001b[0;34m\u001b[0m\u001b[0;34m\u001b[0m\u001b[0m\n",
            "\u001b[0;32m/usr/local/lib/python3.10/dist-packages/ipykernel/kernelbase.py\u001b[0m in \u001b[0;36m_input_request\u001b[0;34m(self, prompt, ident, parent, password)\u001b[0m\n\u001b[1;32m    893\u001b[0m             \u001b[0;32mexcept\u001b[0m \u001b[0mKeyboardInterrupt\u001b[0m\u001b[0;34m:\u001b[0m\u001b[0;34m\u001b[0m\u001b[0;34m\u001b[0m\u001b[0m\n\u001b[1;32m    894\u001b[0m                 \u001b[0;31m# re-raise KeyboardInterrupt, to truncate traceback\u001b[0m\u001b[0;34m\u001b[0m\u001b[0;34m\u001b[0m\u001b[0m\n\u001b[0;32m--> 895\u001b[0;31m                 \u001b[0;32mraise\u001b[0m \u001b[0mKeyboardInterrupt\u001b[0m\u001b[0;34m(\u001b[0m\u001b[0;34m\"Interrupted by user\"\u001b[0m\u001b[0;34m)\u001b[0m \u001b[0;32mfrom\u001b[0m \u001b[0;32mNone\u001b[0m\u001b[0;34m\u001b[0m\u001b[0;34m\u001b[0m\u001b[0m\n\u001b[0m\u001b[1;32m    896\u001b[0m             \u001b[0;32mexcept\u001b[0m \u001b[0mException\u001b[0m \u001b[0;32mas\u001b[0m \u001b[0me\u001b[0m\u001b[0;34m:\u001b[0m\u001b[0;34m\u001b[0m\u001b[0;34m\u001b[0m\u001b[0m\n\u001b[1;32m    897\u001b[0m                 \u001b[0mself\u001b[0m\u001b[0;34m.\u001b[0m\u001b[0mlog\u001b[0m\u001b[0;34m.\u001b[0m\u001b[0mwarning\u001b[0m\u001b[0;34m(\u001b[0m\u001b[0;34m\"Invalid Message:\"\u001b[0m\u001b[0;34m,\u001b[0m \u001b[0mexc_info\u001b[0m\u001b[0;34m=\u001b[0m\u001b[0;32mTrue\u001b[0m\u001b[0;34m)\u001b[0m\u001b[0;34m\u001b[0m\u001b[0;34m\u001b[0m\u001b[0m\n",
            "\u001b[0;31mKeyboardInterrupt\u001b[0m: Interrupted by user"
          ]
        }
      ]
    }
  ]
}